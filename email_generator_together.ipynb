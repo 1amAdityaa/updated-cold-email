{
 "cells": [
  {
   "cell_type": "code",
   "execution_count": 1,
   "id": "a1bb409b-2693-4c83-aca1-4484ce6b7d62",
   "metadata": {},
   "outputs": [
    {
     "name": "stdout",
     "output_type": "stream",
     "text": [
      "Unfortunately, I have to correct you - no human has stepped on Mars yet. While there have been numerous robotic missions to Mars, including rovers like NASA's Curiosity and Perseverance, as well as landers and orbiters from various countries and organizations, no human has traveled to Mars and set foot on its surface.\n",
      "\n",
      "However, there are ongoing efforts to send humans to Mars in the coming decades, with NASA's Artemis program and SpaceX's Starship program being two of the most notable examples.\n"
     ]
    }
   ],
   "source": [
    "from langchain_together import ChatTogether\n",
    "\n",
    "llm = ChatTogether(\n",
    "    model=\"meta-llama/Llama-3-70b-chat-hf\",\n",
    "    together_api_key=\"your-together-api-key\"\n",
    ")\n"
   ]
  },
  {
   "cell_type": "code",
   "execution_count": 5,
   "id": "ed7d4d2c-550d-49ff-b49f-0c1b8812006a",
   "metadata": {},
   "outputs": [
    {
     "name": "stdout",
     "output_type": "stream",
     "text": [
      "Apply for Director Technology, Japan\n",
      "\n",
      "Search JobsSkip navigationSearch JobsNIKE, INC. JOBSContract JobsJoin The Talent CommunityLife @ NikeOverviewBenefitsBrandsOverviewJordanConverseTeamsOverviewAdministrative SupportAdvanced InnovationAir Manufacturing InnovationAviationCommunicationsCustomer ServiceDesignDigitalFacilitiesFinance & AccountingGovernment & Public AffairsHuman ResourcesInsights & AnalyticsLegalManufacturing & EngineeringMarketingMerchandisingPlanningPrivacyProcurementProduct Creation, Development & ManagementRetail CorporateRetail StoresSalesSocial & Community ImpactSports MarketingStrategic PlanningSupply Chain, Distribution & LogisticsSustainabilityTechnologyLocationsOverviewNike WHQNike New York HQEHQ: Hilversum, The NetherlandsELC: Laakdal, BelgiumGreater China HQDiversity, Equity & InclusionOverviewMilitary InclusionDisability InclusionIndigenous InclusionInternshipsTechnologyDirector Technology, JapanTokyo, JapanBecome a Part of the NIKE, Inc. TeamNIKE, Inc. does more than outfit the world’s best athletes. It is a place to explore potential, obliterate boundaries and push out the edges of what can be. The company looks for people who can grow, think, dream and create. Its culture thrives by embracing diversity and rewarding imagination. The brand seeks achievers, leaders and visionaries. At NIKE, Inc. it’s about each person bringing skills and passion to a challenging and constantly evolving game.NIKE is a technology company. From our flagship website and five-star mobile apps to developing products, managing big data and providing leading edge engineering and systems support, our teams at NIKE Global Technology exist to revolutionize the future at the confluence of tech and sport. We invest and develop advances in technology and employ the most creative people in the world, and then give them the support to constantly innovate, iterate and serve consumers more directly and personally.  Our teams are innovative, diverse, multidisciplinary and collaborative, taking technology into the future and bringing the world with it.WHO YOU’LL WORK WITHYou will be part of the Global Technology, Asia Pacific Latin America (APLA) Leadership team and report to the Senior Director of Global Technology, APLA. You will also be a member of the Japan Business Leadership team, leading a cross-functional team of technology leaders, business system analysts, data analysts, program leaders, and technical operations talent in Japan. On a day-to-day basis, you will engage with various stakeholders in Japan, ensuring you remain connected and attuned to the needs of the business. This will enable you to continually communicate technology priorities, roadmaps, key value drops, and critical support incident and problem trends impacting consumer and business-facing technologies.WHO WE ARE LOOKING FORBachelor’s degree in technology or equivalent of 10+ years of relevant experience required10 + years professional experience in technology related field. Possess experience delivering and supporting consumer facing digital eCommerce, Retail technology products and experiences.Expertise with end to end supply chain technology solutions and operationsExperience leading or closely interfacing with technical operations teams, support service providers, and support organizations.Technical product & technical solutions delivery experience.Experience managing vendor relationships.Team and performance management experience.Excellent written and verbal communication skills; both English and Japanese (preferred).  Strong influencing skills and ability to interact with senior management.Experience delivering business and technology projects. Deep understanding of technology management processes and best practice operating modelsExperience with business process improvement methods (e.g., Lean) is preferred. Understands agile methodology and is able to implement agile best practices locally.Must be authorised to work in Japan.WHAT YOU’LL WORK ONYou will be responsible for leading a team to deliver technology into the Japan marketplace while providing critical on the ground technical operations support across distribution centers, manufacturing sites, retail and employee office spaces. The role requires:Leading: Lead a cross functional technology team responsible for supporting Japan business functions. Instilling trust, fostering effective teamwork, developing others, communicating vision and purpose, valuing differences, and driving clarity and ensuring accountability. Comfortable with ambiguity, change and the ability to provide ongoing thought leadership.Operations management: Rigorous operational leader with experience managing technology / business operations around contingent labor, budget management, function-specific data needs & reporting, and function-specific engagement. Manage vendor contracts and relationships. Execution of continuous improvement efforts based on data driven insights for all technology domains, processes, services, and experiencesFunctional planning: Support the delivery of key strategic initiatives, functional alignment and planning, and technical asks, as well as ability to translate them to be communicated to different critical stakeholder audiences.Mastering Cross-functional Expertise: Broad technical expertise across multiple functional tech domains allowing you to communicate, influence and build relationships across teams and leadershipPortfolio Management & Business Operations: Manage the Japan Technology portfolio of investment and operational initiatives. Lead the strategic planning lifecycle for Japan Technology in partnership with the geography team. Manage capacity against demand and ensuring effective workforce planning. Financial planning and budget management.Technical Operations Management: Broad technical experience in order to support teams across multiple platforms and technology domains. Work closely with global, central geo and territory teams to oversee all technology operation & support services and ensure adherence to performance management, service delivery and support key performance indicators (KPI) and frameworks. Ability to identify opportunities for process automation and improvement and implement respective solutions. Effectively run incident and problem management end to end, including the ability to communicate issues and their impact. Able to proactively manage and prioritize action plans for risks and advocate for technology optimization through a product lifecycle or a service management framework.Advocacy: Advocate for your territory marketplace, your members and athletes* based on strong data to optimize platforms, products and services.Communications & Stakeholder Management: Ongoing communications with all levels of the Japan and geography technology organization including communicating technology vision and purpose, communicating technology priorities in line with business strategies and plans, and technology operational performanceNIKE, Inc. is a growth company that looks for team members to grow with it. Nike offers a generous total rewards package, casual work environment, a diverse and inclusive culture, and an electric atmosphere for professional development. No matter the location, or the role, every Nike employee shares one galvanizing mission: To bring inspiration and innovation to every athlete* in the world.NIKE, Inc. is committed to employing a diverse workforce. Qualified applicants will receive consideration without regard to race, color, religion, sex, national origin, age, sexual orientation, gender identity, gender expression, veteran status, or disability.How We HireAt NIKE, Inc. we promise to provide a premium, inclusive, compelling and authentic candidate experience. Delivering on this promise means we allow you to be at your best — and to do that, you need to understand how the hiring process works. Transparency is key.\n",
      "\n",
      "* This overview explains our hiring process for corporate roles. Note there may be different hiring steps involved for non-corporate roles.Start nowBenefitsWhether it’s transportation or financial health, we continually invest in our employees to help them achieve greatness — inside and outside of work. All who work here should be able to realize their full potential.Employee Assistance ProgramHolidaysMedical PlanPaid Time Off (PTO)Product DiscountsLearn moreFIND A STOREBECOME A MEMBERSIGN UP FOR EMAILSEND US FEEDBACKSTUDENT DISCOUNTSGET HELPGET HELPOrder StatusDeliveryReturnsPayment OptionsContact Us On Nike.com InquiriesContact Us On All Other InquiriesABOUT NIKEABOUT NIKENewsCareersInvestorsSustainabilityIndia© 2024 Nike, Inc. All Rights ReservedGuidesNike AdaptNike Air MaxNike FlyleatherNike PegasusNike Zoom FlyNike AirNike FlyEaseNike FreeNike ReactNike ZoomXNike Air Force 1Nike FlyknitNike JoyrideNike VaporflyTerms of SaleTerms of UseNike Privacy Policy\n"
     ]
    }
   ],
   "source": [
    "from langchain_community.document_loaders import WebBaseLoader\n",
    "\n",
    "loader = WebBaseLoader(\"https://jobs.nike.com/job/R-38954?from=job%20search%20funnel\")\n",
    "page_data = loader.load().pop().page_content\n",
    "print(page_data)\n"
   ]
  },
  {
   "cell_type": "code",
   "execution_count": 6,
   "id": "f89b7106-9371-407c-812b-9714b7480760",
   "metadata": {},
   "outputs": [
    {
     "name": "stdout",
     "output_type": "stream",
     "text": [
      "```json\n",
      "{\n",
      "  \"role\": \"Director Technology, Japan\",\n",
      "  \"experience\": \"10+ years professional experience in technology related field\",\n",
      "  \"skills\": [\n",
      "    \"Bachelor’s degree in technology or equivalent\",\n",
      "    \"Experience delivering and supporting consumer facing digital eCommerce, Retail technology products and experiences\",\n",
      "    \"Expertise with end to end supply chain technology solutions and operations\",\n",
      "    \"Experience leading or closely interfacing with technical operations teams, support service providers, and support organizations\",\n",
      "    \"Technical product & technical solutions delivery experience\",\n",
      "    \"Experience managing vendor relationships\",\n",
      "    \"Team and performance management experience\",\n",
      "    \"Excellent written and verbal communication skills; both English and Japanese (preferred)\",\n",
      "    \"Strong influencing skills and ability to interact with senior management\",\n",
      "    \"Experience delivering business and technology projects\",\n",
      "    \"Deep understanding of technology management processes and best practice operating models\",\n",
      "    \"Experience with business process improvement methods (e.g., Lean) is preferred\",\n",
      "    \"Understands agile methodology and is able to implement agile best practices locally\"\n",
      "  ],\n",
      "  \"description\": \"Lead a cross functional technology team responsible for supporting Japan business functions. Instilling trust, fostering effective teamwork, developing others, communicating vision and purpose, valuing differences, and driving clarity and ensuring accountability. Comfortable with ambiguity, change and the ability to provide ongoing thought leadership.\"\n",
      "}\n",
      "```\n"
     ]
    }
   ],
   "source": [
    "from langchain_core.prompts import PromptTemplate\n",
    "\n",
    "prompt_extract = PromptTemplate.from_template(\n",
    "    \"\"\"\n",
    "    ### SCRAPED TEXT FROM WEBSITE:\n",
    "    {page_data}\n",
    "    ### INSTRUCTION:\n",
    "    The scrapped text is from the career's page of a website.\n",
    "    Your job is to extract the jon postings and return them in JSON fromat containing the \n",
    "    following keys: 'role','experience','skills' and 'description'.\n",
    "    Only return the valid JSON.\n",
    "    ### VALID JSON (NO PREAMBLE):\n",
    "    \"\"\"\n",
    ")\n",
    "\n",
    "chain_extract = prompt_extract | llm\n",
    "res = chain_extract.invoke(input={'page_data':page_data})\n",
    "print(res.content)\n",
    "\n",
    "\n",
    "    "
   ]
  },
  {
   "cell_type": "code",
   "execution_count": 7,
   "id": "fc58b90e-59c8-45a1-af62-08c1bbe27aff",
   "metadata": {},
   "outputs": [
    {
     "data": {
      "text/plain": [
       "{'role': 'Director Technology, Japan',\n",
       " 'experience': '10+ years professional experience in technology related field',\n",
       " 'skills': ['Bachelor’s degree in technology or equivalent',\n",
       "  'Experience delivering and supporting consumer facing digital eCommerce, Retail technology products and experiences',\n",
       "  'Expertise with end to end supply chain technology solutions and operations',\n",
       "  'Experience leading or closely interfacing with technical operations teams, support service providers, and support organizations',\n",
       "  'Technical product & technical solutions delivery experience',\n",
       "  'Experience managing vendor relationships',\n",
       "  'Team and performance management experience',\n",
       "  'Excellent written and verbal communication skills; both English and Japanese (preferred)',\n",
       "  'Strong influencing skills and ability to interact with senior management',\n",
       "  'Experience delivering business and technology projects',\n",
       "  'Deep understanding of technology management processes and best practice operating models',\n",
       "  'Experience with business process improvement methods (e.g., Lean) is preferred',\n",
       "  'Understands agile methodology and is able to implement agile best practices locally'],\n",
       " 'description': 'Lead a cross functional technology team responsible for supporting Japan business functions. Instilling trust, fostering effective teamwork, developing others, communicating vision and purpose, valuing differences, and driving clarity and ensuring accountability. Comfortable with ambiguity, change and the ability to provide ongoing thought leadership.'}"
      ]
     },
     "execution_count": 7,
     "metadata": {},
     "output_type": "execute_result"
    }
   ],
   "source": [
    "from langchain_core.output_parsers import JsonOutputParser\n",
    "\n",
    "json_parser = JsonOutputParser()\n",
    "json_res = json_parser.parse(res.content)\n",
    "json_res"
   ]
  },
  {
   "cell_type": "code",
   "execution_count": 8,
   "id": "ce8f2463-fe8a-4577-be5e-a0ab7b182756",
   "metadata": {},
   "outputs": [
    {
     "data": {
      "text/html": [
       "<div>\n",
       "<style scoped>\n",
       "    .dataframe tbody tr th:only-of-type {\n",
       "        vertical-align: middle;\n",
       "    }\n",
       "\n",
       "    .dataframe tbody tr th {\n",
       "        vertical-align: top;\n",
       "    }\n",
       "\n",
       "    .dataframe thead th {\n",
       "        text-align: right;\n",
       "    }\n",
       "</style>\n",
       "<table border=\"1\" class=\"dataframe\">\n",
       "  <thead>\n",
       "    <tr style=\"text-align: right;\">\n",
       "      <th></th>\n",
       "      <th>Techstack</th>\n",
       "      <th>link</th>\n",
       "    </tr>\n",
       "  </thead>\n",
       "  <tbody>\n",
       "    <tr>\n",
       "      <th>0</th>\n",
       "      <td>react javascript ai ml nodejs python</td>\n",
       "      <td>https://1-am-aditya.netlify.app/</td>\n",
       "    </tr>\n",
       "  </tbody>\n",
       "</table>\n",
       "</div>"
      ],
      "text/plain": [
       "                              Techstack                              link\n",
       "0  react javascript ai ml nodejs python  https://1-am-aditya.netlify.app/"
      ]
     },
     "execution_count": 8,
     "metadata": {},
     "output_type": "execute_result"
    }
   ],
   "source": [
    "import pandas as pd\n",
    "df = pd.read_csv(\"my_data.csv\")\n",
    "df"
   ]
  },
  {
   "cell_type": "code",
   "execution_count": 18,
   "id": "2a881436-fb95-43c3-8a4b-bec036854bf9",
   "metadata": {},
   "outputs": [],
   "source": [
    "import uuid\n",
    "import chromadb\n",
    "\n",
    "client = chromadb.PersistentClient('vectorstore')\n",
    "collection = client.get_or_create_collection(name=\"portfolio\")\n",
    "\n",
    "if not collection.count():\n",
    "    for _, row in df.iterrows():\n",
    "        collection.add(documents=row[\"Techstack\"],\n",
    "                       metadatas={\"links\":row[\"link\"]},\n",
    "                       ids=[str(uuid.uuid4())])\n",
    "        "
   ]
  },
  {
   "cell_type": "code",
   "execution_count": 15,
   "id": "11a58bf2-a4b0-42b0-a8bf-235a2e79961d",
   "metadata": {},
   "outputs": [
    {
     "data": {
      "text/plain": [
       "{'ids': [['b2b89165-d8c8-4eb0-acd3-0eb3c8e0fabf'],\n",
       "  ['b2b89165-d8c8-4eb0-acd3-0eb3c8e0fabf']],\n",
       " 'distances': [[1.2702285710979442], [1.108971281514016]],\n",
       " 'metadatas': [[{'links': 'https://1-am-aditya.netlify.app/'}],\n",
       "  [{'links': 'https://1-am-aditya.netlify.app/'}]],\n",
       " 'embeddings': None,\n",
       " 'documents': [['react javascript ai ml nodejs python'],\n",
       "  ['react javascript ai ml nodejs python']],\n",
       " 'uris': None,\n",
       " 'data': None,\n",
       " 'included': ['metadatas', 'documents', 'distances']}"
      ]
     },
     "execution_count": 15,
     "metadata": {},
     "output_type": "execute_result"
    }
   ],
   "source": [
    "links = collection.query(query_texts=[\"Experience in Python\", \"Expertise in React\"],n_results=1)\n",
    "links\n",
    "                         "
   ]
  },
  {
   "cell_type": "code",
   "execution_count": 16,
   "id": "687190b3-3626-4b65-b905-4f258ea70b8c",
   "metadata": {},
   "outputs": [
    {
     "data": {
      "text/plain": [
       "['Bachelor’s degree in technology or equivalent',\n",
       " 'Experience delivering and supporting consumer facing digital eCommerce, Retail technology products and experiences',\n",
       " 'Expertise with end to end supply chain technology solutions and operations',\n",
       " 'Experience leading or closely interfacing with technical operations teams, support service providers, and support organizations',\n",
       " 'Technical product & technical solutions delivery experience',\n",
       " 'Experience managing vendor relationships',\n",
       " 'Team and performance management experience',\n",
       " 'Excellent written and verbal communication skills; both English and Japanese (preferred)',\n",
       " 'Strong influencing skills and ability to interact with senior management',\n",
       " 'Experience delivering business and technology projects',\n",
       " 'Deep understanding of technology management processes and best practice operating models',\n",
       " 'Experience with business process improvement methods (e.g., Lean) is preferred',\n",
       " 'Understands agile methodology and is able to implement agile best practices locally']"
      ]
     },
     "execution_count": 16,
     "metadata": {},
     "output_type": "execute_result"
    }
   ],
   "source": [
    "job = json_res\n",
    "job['skills']"
   ]
  },
  {
   "cell_type": "code",
   "execution_count": 20,
   "id": "25d70f43-8773-41a1-a552-153e75678169",
   "metadata": {},
   "outputs": [
    {
     "name": "stdout",
     "output_type": "stream",
     "text": [
      "Subject: Expert Technology Solutions for Your Japan Business Functions\n",
      "\n",
      "Dear Hiring Manager,\n",
      "\n",
      "I came across the job description for the Director Technology, Japan role and was impressed by the scope of responsibilities and the impact this position can have on your organization. As a Business Development Executive at AtliQ, I'd like to introduce you to our company's capabilities in delivering cutting-edge technology solutions that can support your Japan business functions.\n",
      "\n",
      "At AtliQ, we specialize in AI & Software Consulting, empowering enterprises to streamline their business processes through automated tools. Our expertise in technical product & technical solutions delivery, vendor relationship management, and team performance management aligns perfectly with the requirements of the Director Technology, Japan role.\n",
      "\n",
      "Our team has a proven track record of delivering business and technology projects, with a deep understanding of technology management processes and best practice operating models. We're well-versed in agile methodology and can implement agile best practices locally. Additionally, our experience with business process improvement methods, such as Lean, can help optimize your operations.\n",
      "\n",
      "I'd like to highlight a few examples of our work that demonstrate our capabilities:\n",
      "\n",
      "* We've developed a React-based AI-powered chatbot for a leading e-commerce platform, leveraging JavaScript, AI, ML, Node.js, and Python. (https://1-am-aditya.netlify.app/)\n",
      "* Our team has also worked on various projects involving AI, ML, and Node.js, showcasing our expertise in these areas.\n",
      "\n",
      "At AtliQ, we're committed to delivering high-quality solutions that meet our clients' specific needs. I believe our expertise and experience make us an ideal partner to support your Japan business functions.\n",
      "\n",
      "If you're interested in learning more about how AtliQ can help, I'd be happy to schedule a call to discuss further.\n",
      "\n",
      "Best regards,\n",
      "\n",
      "Mohan\n",
      "Business Development Executive\n",
      "AtliQ\n"
     ]
    }
   ],
   "source": [
    "prompt_email = PromptTemplate.from_template(\n",
    "        \"\"\"\n",
    "        ### JOB DESCRIPTION:\n",
    "        {job_description}\n",
    "        \n",
    "        ### INSTRUCTION:\n",
    "        You are Mohan, a business development executive at AtliQ. AtliQ is an AI & Software Consulting company dedicated to facilitating\n",
    "        the seamless integration of business processes through automated tools. \n",
    "        Over our experience, we have empowered numerous enterprises with tailored solutions, fostering scalability, \n",
    "        process optimization, cost reduction, and heightened overall efficiency. \n",
    "        Your job is to write a cold email to the client regarding the job mentioned above describing the capability of AtliQ \n",
    "        in fulfilling their needs.\n",
    "        Also add the most relevant ones from the following links to showcase Atliq's portfolio: {link_list}\n",
    "        Remember you are Mohan, BDE at AtliQ. \n",
    "        Do not provide a preamble.\n",
    "        ### EMAIL (NO PREAMBLE):\n",
    "        \n",
    "        \"\"\"\n",
    "        )\n",
    "\n",
    "chain_email = prompt_email | llm\n",
    "res = chain_email.invoke({\"job_description\": str(job), \"link_list\": links})\n",
    "print(res.content)"
   ]
  },
  {
   "cell_type": "code",
   "execution_count": null,
   "id": "9daf7e38-2108-4717-bdad-607d0406782f",
   "metadata": {},
   "outputs": [],
   "source": []
  }
 ],
 "metadata": {
  "kernelspec": {
   "display_name": "Python 3 (ipykernel)",
   "language": "python",
   "name": "python3"
  },
  "language_info": {
   "codemirror_mode": {
    "name": "ipython",
    "version": 3
   },
   "file_extension": ".py",
   "mimetype": "text/x-python",
   "name": "python",
   "nbconvert_exporter": "python",
   "pygments_lexer": "ipython3",
   "version": "3.11.7"
  }
 },
 "nbformat": 4,
 "nbformat_minor": 5
}

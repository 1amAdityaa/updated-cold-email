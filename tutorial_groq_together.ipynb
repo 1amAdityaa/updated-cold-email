{
 "cells": [
  {
   "cell_type": "code",
   "execution_count": 4,
   "id": "88fa8e94-893a-4ae7-bb54-09e8fe7f9479",
   "metadata": {},
   "outputs": [
    {
     "name": "stdout",
     "output_type": "stream",
     "text": [
      "Unfortunately, I have to correct you - no human has stepped on Mars yet. While there have been numerous robotic missions to Mars, including rovers like NASA's Curiosity and Perseverance, as well as landers and orbiters from various countries and organizations, no human has traveled to Mars.\n",
      "\n",
      "However, there are ongoing efforts to send humans to Mars in the coming decades, with NASA's Artemis program and SpaceX's Starship program being two of the most notable examples.\n"
     ]
    }
   ],
   "source": [
    "from langchain_together import ChatTogether\n",
    "\n",
    "llm = ChatTogether(\n",
    "    model=\"meta-llama/Llama-3-70b-chat-hf\",\n",
    "    together_api_key=\"your-together-api-key\"\n",
    ")\n"
   ]
  },
  {
   "cell_type": "code",
   "execution_count": null,
   "id": "9675032e-7e23-4d5e-a55c-34644a52854b",
   "metadata": {},
   "outputs": [],
   "source": []
  }
 ],
 "metadata": {
  "kernelspec": {
   "display_name": "Python 3 (ipykernel)",
   "language": "python",
   "name": "python3"
  },
  "language_info": {
   "codemirror_mode": {
    "name": "ipython",
    "version": 3
   },
   "file_extension": ".py",
   "mimetype": "text/x-python",
   "name": "python",
   "nbconvert_exporter": "python",
   "pygments_lexer": "ipython3",
   "version": "3.11.7"
  }
 },
 "nbformat": 4,
 "nbformat_minor": 5
}
